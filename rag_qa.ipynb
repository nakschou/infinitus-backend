{
 "cells": [
  {
   "cell_type": "code",
   "execution_count": 1,
   "metadata": {},
   "outputs": [
    {
     "name": "stderr",
     "output_type": "stream",
     "text": [
      "c:\\Users\\Home\\anaconda3\\envs\\RAG-CHAT-DEV\\Lib\\site-packages\\pinecone\\data\\index.py:1: TqdmWarning: IProgress not found. Please update jupyter and ipywidgets. See https://ipywidgets.readthedocs.io/en/stable/user_install.html\n",
      "  from tqdm.autonotebook import tqdm\n"
     ]
    }
   ],
   "source": [
    "from pinecone import Pinecone\n",
    "from dotenv import load_dotenv\n",
    "import os\n",
    "import voyageai\n",
    "\n",
    "load_dotenv()\n",
    "PINECONE_API_KEY = os.getenv('PINECONE_API_KEY')\n",
    "pc = Pinecone(api_key=PINECONE_API_KEY)\n",
    "index = pc.Index(\"rag-chat\")\n",
    "VOYAGE_API_KEY = os.getenv('VOYAGE_API_KEY')\n",
    "vo = voyageai.Client()"
   ]
  },
  {
   "cell_type": "code",
   "execution_count": 57,
   "metadata": {},
   "outputs": [],
   "source": [
    "query_text = \"How does Sam Altman, the renowned entrepreneur and former President of Y Combinator, perceive the division of equity among co-founders in startup companies? Given his extensive experience in the startup ecosystem and his role in guiding numerous emerging companies, what insights or recommendations has Altman offered regarding how co-founders should approach the distribution of equity shares? Specifically, does he advocate for equal splits, or does he suggest a more performance-based allocation? What are his views on addressing potential discrepancies in co-founder contributions and the impact of such equity decisions on the overall dynamics and success of startup ventures?\"\n",
    "result = vo.embed(query_text, model=\"voyage-large-2\", input_type=\"query\")"
   ]
  },
  {
   "cell_type": "code",
   "execution_count": 58,
   "metadata": {},
   "outputs": [],
   "source": [
    "vector = result.embeddings[0]"
   ]
  },
  {
   "cell_type": "code",
   "execution_count": 62,
   "metadata": {},
   "outputs": [],
   "source": [
    "result = index.query(\n",
    "    vector=vector,\n",
    "    filter={\n",
    "        \"pdf_id\": \"default\"\n",
    "    },\n",
    "    top_k=3,\n",
    "    include_metadata=True\n",
    ")"
   ]
  },
  {
   "cell_type": "code",
   "execution_count": 63,
   "metadata": {},
   "outputs": [
    {
     "data": {
      "text/plain": [
       "{'matches': [{'id': 'default16',\n",
       "              'metadata': {'pdf_id': 'default',\n",
       "                           'text': 'Consider these criteria when you’re '\n",
       "                                   'choosing a cofounder -- it’s one of the '\n",
       "                                   'most important\\n'\n",
       "                                   'decisions you’ll make, and it’s often done '\n",
       "                                   'fairly randomly. You want someone you know '\n",
       "                                   'well,\\n'\n",
       "                                   'not someone you just met at a cofounder '\n",
       "                                   'dating thing. You can evaluate anyone you '\n",
       "                                   'might\\n'\n",
       "                                   'work with better with more data, and you '\n",
       "                                   'really don’t want to get this one wrong. '\n",
       "                                   'Also, at\\n'\n",
       "                                   'some point, the expected value of the '\n",
       "                                   'startup is likely to dip below the X axis. '\n",
       "                                   'If you have a\\n'\n",
       "                                   'pre-existing relationship with your '\n",
       "                                   'cofounders, none of you will want to let '\n",
       "                                   'the other down and\\n'\n",
       "                                   'you’ll keep going. Cofounder breakups are '\n",
       "                                   'one of the leading causes of death for '\n",
       "                                   'early\\n'\n",
       "                                   'startups, and we see them happen very, '\n",
       "                                   'very frequently in cases where the '\n",
       "                                   'founders met for\\n'\n",
       "                                   'the express purpose of starting the '\n",
       "                                   'company. The best case, by far, is to have '\n",
       "                                   'a good cofounder. The next best is to be a '\n",
       "                                   'solo founder. The\\n'\n",
       "                                   'worse case, by far, is to have a bad '\n",
       "                                   'cofounder. If things are not working out, '\n",
       "                                   'you should part\\n'\n",
       "                                   'ways quickly. A quick note on equity: the '\n",
       "                                   'conversation about the equity split does '\n",
       "                                   'not get easier with time—\\n'\n",
       "                                   'it’s better to set it early on. Nearly '\n",
       "                                   'equal is best, though perhaps in the case '\n",
       "                                   'of two founders\\n'\n",
       "                                   'it’s best to have one person with one '\n",
       "                                   'extra share to prevent deadlocks when the '\n",
       "                                   'cofounders\\n'\n",
       "                                   'have a fallout. Here is the secret to '\n",
       "                                   'success: have a great product.'},\n",
       "              'score': 0.8147192,\n",
       "              'values': []},\n",
       "             {'id': 'default59',\n",
       "              'metadata': {'pdf_id': 'default',\n",
       "                           'text': 'No first-time founder knows what he or she '\n",
       "                                   'is doing. To the degree you understand '\n",
       "                                   'that, and\\n'\n",
       "                                   'ask for help, you’ll be better off. It’s '\n",
       "                                   'worth the time investment to learn to '\n",
       "                                   'become a good\\n'\n",
       "                                   'leader and manager. The best way to do '\n",
       "                                   'this is to find a mentor—reading books '\n",
       "                                   'doesn’t\\n'\n",
       "                                   'seem to work as well. A surprising amount '\n",
       "                                   'of our advice at YC is of the form “just '\n",
       "                                   'ask them” or “just do it”. First-time\\n'\n",
       "                                   'founders think there must be some secret '\n",
       "                                   'for when you need something from someone '\n",
       "                                   'or\\n'\n",
       "                                   'you want to do some new thing. But again, '\n",
       "                                   'startups are where tricks stop working. '\n",
       "                                   'Just be\\n'\n",
       "                                   'direct, be willing to ask for what you '\n",
       "                                   'want, and don’t be a jerk. It’s important '\n",
       "                                   'that you distort reality for others but '\n",
       "                                   'not yourself. You have to convince other\\n'\n",
       "                                   'people that your company is primed to be '\n",
       "                                   'the most important startup of the decade, '\n",
       "                                   'but you\\n'\n",
       "                                   'yourself should be paranoid about '\n",
       "                                   'everything that could go wrong. Be '\n",
       "                                   'persistent. Most founders give up too '\n",
       "                                   'quickly or move on to the next product too '\n",
       "                                   'quickly. If\\n'\n",
       "                                   'things generally aren’t going well, figure '\n",
       "                                   'out what the root cause of the problem is '\n",
       "                                   'and make\\n'\n",
       "                                   'sure you address that. A huge part of '\n",
       "                                   'being a successful startup CEO is not '\n",
       "                                   'giving up\\n'\n",
       "                                   '(although you don’t want to be obstinate '\n",
       "                                   'beyond all reason either—this is another '\n",
       "                                   'apparent\\n'\n",
       "                                   'contradiction, and a hard judgment call to '\n",
       "                                   'make.)\\n'\n",
       "                                   'Be optimistic. Although it’s possible that '\n",
       "                                   'there is a great pessimistic CEO somewhere '\n",
       "                                   'out in\\n'\n",
       "                                   'the world, I haven’t met him or her yet. A '\n",
       "                                   'belief that the future will be better, and '\n",
       "                                   'that the\\n'\n",
       "                                   'company will play an important role in '\n",
       "                                   'making the future better, is important for '\n",
       "                                   'the CEO to\\n'\n",
       "                                   'have and to infect the rest of the company '\n",
       "                                   'with. This is easy in theory and hard in '\n",
       "                                   'the\\n'\n",
       "                                   'practical reality of short-term '\n",
       "                                   'challenges.'},\n",
       "              'score': 0.789611518,\n",
       "              'values': []},\n",
       "             {'id': 'default1',\n",
       "              'metadata': {'pdf_id': 'default',\n",
       "                           'text': 'One of the most consistent\\n'\n",
       "                                   'pieces of feedback we get from YC founders '\n",
       "                                   'is it’s harder than they could have ever\\n'\n",
       "                                   'imagined, because they didn’t have a '\n",
       "                                   'framework for the sort of work and '\n",
       "                                   'intensity a startup\\n'\n",
       "                                   'entails. Joining an early-stage startup '\n",
       "                                   'that’s on a rocketship trajectory is '\n",
       "                                   'usually a much\\n'\n",
       "                                   'better financial deal. On the other hand, '\n",
       "                                   'starting a startup is not in fact very '\n",
       "                                   'risky to your career—if you’re really\\n'\n",
       "                                   'good at technology, there will be job '\n",
       "                                   'opportunities if you fail. Most people are '\n",
       "                                   'very bad at\\n'\n",
       "                                   'evaluating risk. I personally think the '\n",
       "                                   'riskier option is having an idea or '\n",
       "                                   'project you’re really\\n'\n",
       "                                   'passionate about and working at a safe, '\n",
       "                                   'easy, unfulfilling job instead. To have a '\n",
       "                                   'successful startup, you need: a great idea '\n",
       "                                   '(including a great market), a great team,\\n'\n",
       "                                   'a great product, and great execution.'},\n",
       "              'score': 0.787370801,\n",
       "              'values': []}],\n",
       " 'namespace': '',\n",
       " 'usage': {'read_units': 6}}"
      ]
     },
     "execution_count": 63,
     "metadata": {},
     "output_type": "execute_result"
    }
   ],
   "source": [
    "result"
   ]
  },
  {
   "cell_type": "code",
   "execution_count": 64,
   "metadata": {},
   "outputs": [
    {
     "name": "stdout",
     "output_type": "stream",
     "text": [
      "['Consider these criteria when you’re choosing a cofounder -- it’s one of the most important\\ndecisions you’ll make, and it’s often done fairly randomly. You want someone you know well,\\nnot someone you just met at a cofounder dating thing. You can evaluate anyone you might\\nwork with better with more data, and you really don’t want to get this one wrong. Also, at\\nsome point, the expected value of the startup is likely to dip below the X axis. If you have a\\npre-existing relationship with your cofounders, none of you will want to let the other down and\\nyou’ll keep going. Cofounder breakups are one of the leading causes of death for early\\nstartups, and we see them happen very, very frequently in cases where the founders met for\\nthe express purpose of starting the company. The best case, by far, is to have a good cofounder. The next best is to be a solo founder. The\\nworse case, by far, is to have a bad cofounder. If things are not working out, you should part\\nways quickly. A quick note on equity: the conversation about the equity split does not get easier with time—\\nit’s better to set it early on. Nearly equal is best, though perhaps in the case of two founders\\nit’s best to have one person with one extra share to prevent deadlocks when the cofounders\\nhave a fallout. Here is the secret to success: have a great product.', 'No first-time founder knows what he or she is doing. To the degree you understand that, and\\nask for help, you’ll be better off. It’s worth the time investment to learn to become a good\\nleader and manager. The best way to do this is to find a mentor—reading books doesn’t\\nseem to work as well. A surprising amount of our advice at YC is of the form “just ask them” or “just do it”. First-time\\nfounders think there must be some secret for when you need something from someone or\\nyou want to do some new thing. But again, startups are where tricks stop working. Just be\\ndirect, be willing to ask for what you want, and don’t be a jerk. It’s important that you distort reality for others but not yourself. You have to convince other\\npeople that your company is primed to be the most important startup of the decade, but you\\nyourself should be paranoid about everything that could go wrong. Be persistent. Most founders give up too quickly or move on to the next product too quickly. If\\nthings generally aren’t going well, figure out what the root cause of the problem is and make\\nsure you address that. A huge part of being a successful startup CEO is not giving up\\n(although you don’t want to be obstinate beyond all reason either—this is another apparent\\ncontradiction, and a hard judgment call to make.)\\nBe optimistic. Although it’s possible that there is a great pessimistic CEO somewhere out in\\nthe world, I haven’t met him or her yet. A belief that the future will be better, and that the\\ncompany will play an important role in making the future better, is important for the CEO to\\nhave and to infect the rest of the company with. This is easy in theory and hard in the\\npractical reality of short-term challenges.', 'One of the most consistent\\npieces of feedback we get from YC founders is it’s harder than they could have ever\\nimagined, because they didn’t have a framework for the sort of work and intensity a startup\\nentails. Joining an early-stage startup that’s on a rocketship trajectory is usually a much\\nbetter financial deal. On the other hand, starting a startup is not in fact very risky to your career—if you’re really\\ngood at technology, there will be job opportunities if you fail. Most people are very bad at\\nevaluating risk. I personally think the riskier option is having an idea or project you’re really\\npassionate about and working at a safe, easy, unfulfilling job instead. To have a successful startup, you need: a great idea (including a great market), a great team,\\na great product, and great execution.']\n"
     ]
    }
   ],
   "source": [
    "text_strings = [i[\"metadata\"][\"text\"] for i in result[\"matches\"]]\n",
    "print(text_strings)"
   ]
  },
  {
   "cell_type": "code",
   "execution_count": 28,
   "metadata": {},
   "outputs": [],
   "source": [
    "import dspy\n",
    "from openai import OpenAI\n",
    "\n",
    "OPENAI_API_KEY = os.getenv(\"OPENAI_API_KEY\")\n",
    "gpt4 = dspy.OpenAI(model=\"gpt-4\", api_key=OPENAI_API_KEY)\n",
    "dspy.configure(lm=gpt4)\n",
    "client = OpenAI()\n",
    "\n",
    "class QueryReformatter(dspy.Signature):\n",
    "    \"\"\"Given a query, make it more detailed by asking implied subquestions for a vector search.\"\"\"\n",
    "\n",
    "    query = dspy.InputField()\n",
    "    new_query = dspy.OutputField(desc=\"The more detailed version of the query, assuming it is known the information is contained in the writing. ONLY GIVE THE QUERY, no additional text.\")\n",
    "queryref = dspy.Predict(QueryReformatter)"
   ]
  },
  {
   "cell_type": "code",
   "execution_count": 39,
   "metadata": {},
   "outputs": [],
   "source": [
    "from typing import List, Union, Optional\n",
    "\n",
    "class PineconeRM(dspy.Retrieve):\n",
    "    def __init__(self, id:str = \"\", k:int = 3):\n",
    "        super().__init__(k=k)\n",
    "        self.id = id\n",
    "\n",
    "    def forward(self, query:str) -> dspy.Prediction:\n",
    "        queryref = dspy.Predict(QueryReformatter)\n",
    "        query_redone = queryref(query=query).new_query\n",
    "        voyage_call = vo.embed(query_redone, model=\"voyage-large-2\", input_type=\"query\")\n",
    "        query_vector = voyage_call.embeddings[0]\n",
    "        if not self.id:\n",
    "            result = index.query(\n",
    "                vector=query_vector,\n",
    "                top_k=self.k,\n",
    "                include_metadata=True\n",
    "            )\n",
    "        else:\n",
    "            result = index.query(\n",
    "                vector=query_vector,\n",
    "                filter={\n",
    "                    \"pdf_id\": self.id\n",
    "                },\n",
    "                top_k=self.k,\n",
    "                include_metadata=True\n",
    "            )\n",
    "        text_strings = [i[\"metadata\"][\"text\"] for i in result[\"matches\"]]\n",
    "        return dspy.Prediction(\n",
    "            passages=text_strings\n",
    "        )"
   ]
  },
  {
   "cell_type": "code",
   "execution_count": 40,
   "metadata": {},
   "outputs": [],
   "source": [
    "class GenerateAnswer(dspy.Signature):\n",
    "    \"\"\"Answer questions with as ground-truth information as possible.\"\"\"\n",
    "\n",
    "    context = dspy.InputField(desc=\"may contain relevant facts\")\n",
    "    question = dspy.InputField()\n",
    "    answer = dspy.OutputField()\n",
    "\n",
    "class RAG(dspy.Module):\n",
    "    def __init__(self, num_passages=3, id:str = \"\"):\n",
    "        super().__init__()\n",
    "\n",
    "        self.retrieve = PineconeRM(id=id, k=num_passages)\n",
    "        self.generate_answer = dspy.ChainOfThought(GenerateAnswer)\n",
    "    \n",
    "    def forward(self, question):\n",
    "        context = self.retrieve(question).passages\n",
    "        prediction = self.generate_answer(context=context, question=question)\n",
    "        return dspy.Prediction(context=context, answer=prediction.answer)"
   ]
  },
  {
   "cell_type": "code",
   "execution_count": 41,
   "metadata": {},
   "outputs": [],
   "source": [
    "dspy.configure(lm=gpt4, rm=PineconeRM)"
   ]
  },
  {
   "cell_type": "code",
   "execution_count": 42,
   "metadata": {},
   "outputs": [],
   "source": [
    "rag = RAG(id=\"default\")"
   ]
  },
  {
   "cell_type": "code",
   "execution_count": 43,
   "metadata": {},
   "outputs": [],
   "source": [
    "response = rag(question=\"How does Sam Altman perceive the division of equity among co-founders in startup companies?\")"
   ]
  },
  {
   "cell_type": "code",
   "execution_count": 44,
   "metadata": {},
   "outputs": [
    {
     "data": {
      "text/plain": [
       "Prediction(\n",
       "    context=['Consider these criteria when you’re choosing a cofounder -- it’s one of the most important\\ndecisions you’ll make, and it’s often done fairly randomly. You want someone you know well,\\nnot someone you just met at a cofounder dating thing. You can evaluate anyone you might\\nwork with better with more data, and you really don’t want to get this one wrong. Also, at\\nsome point, the expected value of the startup is likely to dip below the X axis. If you have a\\npre-existing relationship with your cofounders, none of you will want to let the other down and\\nyou’ll keep going. Cofounder breakups are one of the leading causes of death for early\\nstartups, and we see them happen very, very frequently in cases where the founders met for\\nthe express purpose of starting the company. The best case, by far, is to have a good cofounder. The next best is to be a solo founder. The\\nworse case, by far, is to have a bad cofounder. If things are not working out, you should part\\nways quickly. A quick note on equity: the conversation about the equity split does not get easier with time—\\nit’s better to set it early on. Nearly equal is best, though perhaps in the case of two founders\\nit’s best to have one person with one extra share to prevent deadlocks when the cofounders\\nhave a fallout. Here is the secret to success: have a great product.', 'The secret to successfully raising money is to have a good company. All of the other stuff\\nfounders do to try to over-optimize the process probably only matters about 5% of the time. Investors are looking for companies that are going to be really successful whether or not they\\ninvest, but that can grow faster with outside capital.', 'But I feel I should\\nsay it anyway. Also, fire people who are toxic to the culture no matter how good they are at\\nwhat they do. Culture is defined by who you hire, fire, and promote. I wrote a blog post with more detail. (http://blog.samaltman.com/how-to-hire)\\nA quick word about competitors: competitors are a startup ghost story. First-time founders\\nthink they are what kill 99% of startups.'],\n",
       "    answer='Sam Altman suggests that the division of equity among co-founders in startup companies should be nearly equal and decided early on. In the case of two founders, he recommends one person having an extra share to prevent decision-making deadlocks.'\n",
       ")"
      ]
     },
     "execution_count": 44,
     "metadata": {},
     "output_type": "execute_result"
    }
   ],
   "source": [
    "response"
   ]
  },
  {
   "cell_type": "code",
   "execution_count": null,
   "metadata": {},
   "outputs": [],
   "source": []
  }
 ],
 "metadata": {
  "kernelspec": {
   "display_name": "RAG-CHAT-DEV",
   "language": "python",
   "name": "python3"
  },
  "language_info": {
   "codemirror_mode": {
    "name": "ipython",
    "version": 3
   },
   "file_extension": ".py",
   "mimetype": "text/x-python",
   "name": "python",
   "nbconvert_exporter": "python",
   "pygments_lexer": "ipython3",
   "version": "3.12.3"
  }
 },
 "nbformat": 4,
 "nbformat_minor": 2
}
