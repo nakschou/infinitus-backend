{
 "cells": [
  {
   "cell_type": "code",
   "execution_count": 1,
   "metadata": {},
   "outputs": [
    {
     "name": "stderr",
     "output_type": "stream",
     "text": [
      "c:\\Users\\Home\\anaconda3\\envs\\RAG-CHAT-DEV\\Lib\\site-packages\\pinecone\\data\\index.py:1: TqdmWarning: IProgress not found. Please update jupyter and ipywidgets. See https://ipywidgets.readthedocs.io/en/stable/user_install.html\n",
      "  from tqdm.autonotebook import tqdm\n"
     ]
    }
   ],
   "source": [
    "from pinecone import Pinecone\n",
    "from dotenv import load_dotenv\n",
    "import os\n",
    "import voyageai\n",
    "\n",
    "load_dotenv()\n",
    "PINECONE_API_KEY = os.getenv('PINECONE_API_KEY')\n",
    "pc = Pinecone(api_key=PINECONE_API_KEY)\n",
    "index = pc.Index(\"rag-chat\")\n",
    "VOYAGE_API_KEY = os.getenv('VOYAGE_API_KEY')\n",
    "vo = voyageai.Client()"
   ]
  },
  {
   "cell_type": "code",
   "execution_count": 2,
   "metadata": {},
   "outputs": [],
   "source": [
    "query_text = \"how does sam altman feel about building as a solo founder?\"\n",
    "result = vo.embed(query_text, model=\"voyage-large-2\", input_type=\"query\")"
   ]
  },
  {
   "cell_type": "code",
   "execution_count": 3,
   "metadata": {},
   "outputs": [],
   "source": [
    "vector = result.embeddings[0]"
   ]
  },
  {
   "cell_type": "code",
   "execution_count": 4,
   "metadata": {},
   "outputs": [],
   "source": [
    "result = index.query(\n",
    "    vector=vector,\n",
    "    filter={\n",
    "        \"pdf_id\": \"default\"\n",
    "    },\n",
    "    top_k=3,\n",
    "    include_metadata=True\n",
    ")"
   ]
  },
  {
   "cell_type": "code",
   "execution_count": 5,
   "metadata": {},
   "outputs": [
    {
     "data": {
      "text/plain": [
       "{'matches': [{'id': 'default52',\n",
       "              'metadata': {'pdf_id': 'default',\n",
       "                           'text': 'Being a CEO is\\n'\n",
       "                                   'lonely. It’s important to have '\n",
       "                                   'relationships with other CEOs you can call '\n",
       "                                   'when everything is\\n'\n",
       "                                   'melting down (one of the important '\n",
       "                                   'accidental discoveries of YC was a way for '\n",
       "                                   'founders to\\n'\n",
       "                                   'have peers.)\\n'\n",
       "                                   'A successful startup takes a very long '\n",
       "                                   'time—certainly much longer than most '\n",
       "                                   'founders think\\n'\n",
       "                                   'at the outset. You cannot treat it as an '\n",
       "                                   'all-nighter.'},\n",
       "              'score': 0.791903436,\n",
       "              'values': []},\n",
       "             {'id': 'default72',\n",
       "              'metadata': {'pdf_id': 'default',\n",
       "                           'text': 'But I feel I should\\n'\n",
       "                                   'say it anyway. Also, fire people who are '\n",
       "                                   'toxic to the culture no matter how good '\n",
       "                                   'they are at\\n'\n",
       "                                   'what they do. Culture is defined by who '\n",
       "                                   'you hire, fire, and promote. I wrote a '\n",
       "                                   'blog post with more detail. '\n",
       "                                   '(http://blog.samaltman.com/how-to-hire)\\n'\n",
       "                                   'A quick word about competitors: '\n",
       "                                   'competitors are a startup ghost story. '\n",
       "                                   'First-time founders\\n'\n",
       "                                   'think they are what kill 99% of startups.'},\n",
       "              'score': 0.787313402,\n",
       "              'values': []},\n",
       "             {'id': 'default42',\n",
       "              'metadata': {'pdf_id': 'default',\n",
       "                           'text': 'They are relentlessly focused on their '\n",
       "                                   'product and growth. They don’t try to do '\n",
       "                                   'everything—in\\n'\n",
       "                                   'fact, they say no a lot (this is hard '\n",
       "                                   'because the sort of people that start '\n",
       "                                   'companies are the\\n'\n",
       "                                   'sort of people that like doing new '\n",
       "                                   'things.)\\n'\n",
       "                                   'As a general rule, don’t let your company '\n",
       "                                   'start doing the next thing until you’ve '\n",
       "                                   'dominated\\n'\n",
       "                                   'the first thing. No great company I know '\n",
       "                                   'of started doing multiple things at '\n",
       "                                   'once—they start\\n'\n",
       "                                   'with a lot of conviction about one thing, '\n",
       "                                   'and see it all the way through. You can do '\n",
       "                                   'far fewer\\n'\n",
       "                                   'things than you think. A very, very common '\n",
       "                                   'cause of startup death is doing too many '\n",
       "                                   'of the\\n'\n",
       "                                   'wrong things. Prioritization is critical '\n",
       "                                   'and hard. (Equally important to setting '\n",
       "                                   'the company’s\\n'\n",
       "                                   'priorities is setting your own tactical '\n",
       "                                   'priorities. What I’ve found works best for '\n",
       "                                   'me personally\\n'\n",
       "                                   'is a pen-and-paper list for each day with '\n",
       "                                   '~3 major tasks and ~30 minor ones, and an '\n",
       "                                   'annual\\n'\n",
       "                                   'to-do list of overall goals.)\\n'\n",
       "                                   'While great founders don’t do many big '\n",
       "                                   'projects, they do whatever they do very '\n",
       "                                   'intensely. They get things done very '\n",
       "                                   'quickly.'},\n",
       "              'score': 0.778441072,\n",
       "              'values': []}],\n",
       " 'namespace': '',\n",
       " 'usage': {'read_units': 6}}"
      ]
     },
     "execution_count": 5,
     "metadata": {},
     "output_type": "execute_result"
    }
   ],
   "source": [
    "result"
   ]
  },
  {
   "cell_type": "code",
   "execution_count": 64,
   "metadata": {},
   "outputs": [
    {
     "name": "stdout",
     "output_type": "stream",
     "text": [
      "['Consider these criteria when you’re choosing a cofounder -- it’s one of the most important\\ndecisions you’ll make, and it’s often done fairly randomly. You want someone you know well,\\nnot someone you just met at a cofounder dating thing. You can evaluate anyone you might\\nwork with better with more data, and you really don’t want to get this one wrong. Also, at\\nsome point, the expected value of the startup is likely to dip below the X axis. If you have a\\npre-existing relationship with your cofounders, none of you will want to let the other down and\\nyou’ll keep going. Cofounder breakups are one of the leading causes of death for early\\nstartups, and we see them happen very, very frequently in cases where the founders met for\\nthe express purpose of starting the company. The best case, by far, is to have a good cofounder. The next best is to be a solo founder. The\\nworse case, by far, is to have a bad cofounder. If things are not working out, you should part\\nways quickly. A quick note on equity: the conversation about the equity split does not get easier with time—\\nit’s better to set it early on. Nearly equal is best, though perhaps in the case of two founders\\nit’s best to have one person with one extra share to prevent deadlocks when the cofounders\\nhave a fallout. Here is the secret to success: have a great product.', 'No first-time founder knows what he or she is doing. To the degree you understand that, and\\nask for help, you’ll be better off. It’s worth the time investment to learn to become a good\\nleader and manager. The best way to do this is to find a mentor—reading books doesn’t\\nseem to work as well. A surprising amount of our advice at YC is of the form “just ask them” or “just do it”. First-time\\nfounders think there must be some secret for when you need something from someone or\\nyou want to do some new thing. But again, startups are where tricks stop working. Just be\\ndirect, be willing to ask for what you want, and don’t be a jerk. It’s important that you distort reality for others but not yourself. You have to convince other\\npeople that your company is primed to be the most important startup of the decade, but you\\nyourself should be paranoid about everything that could go wrong. Be persistent. Most founders give up too quickly or move on to the next product too quickly. If\\nthings generally aren’t going well, figure out what the root cause of the problem is and make\\nsure you address that. A huge part of being a successful startup CEO is not giving up\\n(although you don’t want to be obstinate beyond all reason either—this is another apparent\\ncontradiction, and a hard judgment call to make.)\\nBe optimistic. Although it’s possible that there is a great pessimistic CEO somewhere out in\\nthe world, I haven’t met him or her yet. A belief that the future will be better, and that the\\ncompany will play an important role in making the future better, is important for the CEO to\\nhave and to infect the rest of the company with. This is easy in theory and hard in the\\npractical reality of short-term challenges.', 'One of the most consistent\\npieces of feedback we get from YC founders is it’s harder than they could have ever\\nimagined, because they didn’t have a framework for the sort of work and intensity a startup\\nentails. Joining an early-stage startup that’s on a rocketship trajectory is usually a much\\nbetter financial deal. On the other hand, starting a startup is not in fact very risky to your career—if you’re really\\ngood at technology, there will be job opportunities if you fail. Most people are very bad at\\nevaluating risk. I personally think the riskier option is having an idea or project you’re really\\npassionate about and working at a safe, easy, unfulfilling job instead. To have a successful startup, you need: a great idea (including a great market), a great team,\\na great product, and great execution.']\n"
     ]
    }
   ],
   "source": [
    "text_strings = [i[\"metadata\"][\"text\"] for i in result[\"matches\"]]\n",
    "print(text_strings)"
   ]
  },
  {
   "cell_type": "code",
   "execution_count": 6,
   "metadata": {},
   "outputs": [],
   "source": [
    "import dspy\n",
    "from openai import OpenAI\n",
    "\n",
    "OPENAI_API_KEY = os.getenv(\"OPENAI_API_KEY\")\n",
    "gpt4 = dspy.OpenAI(model=\"gpt-4\", api_key=OPENAI_API_KEY)\n",
    "dspy.configure(lm=gpt4)\n",
    "client = OpenAI()\n",
    "\n",
    "class QueryReformatter(dspy.Signature):\n",
    "    \"\"\"Given a query, make it more detailed by asking implied subquestions for a vector search.\"\"\"\n",
    "\n",
    "    query = dspy.InputField()\n",
    "    new_query = dspy.OutputField(desc=\"The more detailed version of the query, assuming it is known the information is contained in the writing. ONLY GIVE THE QUERY, no additional text.\")\n",
    "queryref = dspy.Predict(QueryReformatter)"
   ]
  },
  {
   "cell_type": "code",
   "execution_count": 39,
   "metadata": {},
   "outputs": [],
   "source": [
    "from typing import List, Union, Optional\n",
    "\n",
    "class PineconeRM(dspy.Retrieve):\n",
    "    def __init__(self, id:str = \"\", k:int = 3):\n",
    "        super().__init__(k=k)\n",
    "        self.id = id\n",
    "\n",
    "    def forward(self, query:str) -> dspy.Prediction:\n",
    "        queryref = dspy.Predict(QueryReformatter)\n",
    "        query_redone = queryref(query=query).new_query\n",
    "        voyage_call = vo.embed(query_redone, model=\"voyage-large-2\", input_type=\"query\")\n",
    "        query_vector = voyage_call.embeddings[0]\n",
    "        if not self.id:\n",
    "            result = index.query(\n",
    "                vector=query_vector,\n",
    "                top_k=self.k,\n",
    "                include_metadata=True\n",
    "            )\n",
    "        else:\n",
    "            result = index.query(\n",
    "                vector=query_vector,\n",
    "                filter={\n",
    "                    \"pdf_id\": self.id\n",
    "                },\n",
    "                top_k=self.k,\n",
    "                include_metadata=True\n",
    "            )\n",
    "        text_strings = [i[\"metadata\"][\"text\"] for i in result[\"matches\"]]\n",
    "        return dspy.Prediction(\n",
    "            passages=text_strings\n",
    "        )"
   ]
  },
  {
   "cell_type": "code",
   "execution_count": 40,
   "metadata": {},
   "outputs": [],
   "source": [
    "class GenerateAnswer(dspy.Signature):\n",
    "    \"\"\"Answer questions with as ground-truth information as possible.\"\"\"\n",
    "\n",
    "    context = dspy.InputField(desc=\"may contain relevant facts\")\n",
    "    question = dspy.InputField()\n",
    "    answer = dspy.OutputField()\n",
    "\n",
    "class RAG(dspy.Module):\n",
    "    def __init__(self, num_passages=3, id:str = \"\"):\n",
    "        super().__init__()\n",
    "\n",
    "        self.retrieve = PineconeRM(id=id, k=num_passages)\n",
    "        self.generate_answer = dspy.ChainOfThought(GenerateAnswer)\n",
    "    \n",
    "    def forward(self, question):\n",
    "        context = self.retrieve(question).passages\n",
    "        prediction = self.generate_answer(context=context, question=question)\n",
    "        return dspy.Prediction(context=context, answer=prediction.answer)"
   ]
  },
  {
   "cell_type": "code",
   "execution_count": 41,
   "metadata": {},
   "outputs": [],
   "source": [
    "dspy.configure(lm=gpt4, rm=PineconeRM)"
   ]
  },
  {
   "cell_type": "code",
   "execution_count": 42,
   "metadata": {},
   "outputs": [],
   "source": [
    "rag = RAG(id=\"default\")"
   ]
  },
  {
   "cell_type": "code",
   "execution_count": 43,
   "metadata": {},
   "outputs": [],
   "source": [
    "response = rag(question=\"How does Sam Altman perceive the division of equity among co-founders in startup companies?\")"
   ]
  },
  {
   "cell_type": "code",
   "execution_count": 44,
   "metadata": {},
   "outputs": [
    {
     "data": {
      "text/plain": [
       "Prediction(\n",
       "    context=['Consider these criteria when you’re choosing a cofounder -- it’s one of the most important\\ndecisions you’ll make, and it’s often done fairly randomly. You want someone you know well,\\nnot someone you just met at a cofounder dating thing. You can evaluate anyone you might\\nwork with better with more data, and you really don’t want to get this one wrong. Also, at\\nsome point, the expected value of the startup is likely to dip below the X axis. If you have a\\npre-existing relationship with your cofounders, none of you will want to let the other down and\\nyou’ll keep going. Cofounder breakups are one of the leading causes of death for early\\nstartups, and we see them happen very, very frequently in cases where the founders met for\\nthe express purpose of starting the company. The best case, by far, is to have a good cofounder. The next best is to be a solo founder. The\\nworse case, by far, is to have a bad cofounder. If things are not working out, you should part\\nways quickly. A quick note on equity: the conversation about the equity split does not get easier with time—\\nit’s better to set it early on. Nearly equal is best, though perhaps in the case of two founders\\nit’s best to have one person with one extra share to prevent deadlocks when the cofounders\\nhave a fallout. Here is the secret to success: have a great product.', 'The secret to successfully raising money is to have a good company. All of the other stuff\\nfounders do to try to over-optimize the process probably only matters about 5% of the time. Investors are looking for companies that are going to be really successful whether or not they\\ninvest, but that can grow faster with outside capital.', 'But I feel I should\\nsay it anyway. Also, fire people who are toxic to the culture no matter how good they are at\\nwhat they do. Culture is defined by who you hire, fire, and promote. I wrote a blog post with more detail. (http://blog.samaltman.com/how-to-hire)\\nA quick word about competitors: competitors are a startup ghost story. First-time founders\\nthink they are what kill 99% of startups.'],\n",
       "    answer='Sam Altman suggests that the division of equity among co-founders in startup companies should be nearly equal and decided early on. In the case of two founders, he recommends one person having an extra share to prevent decision-making deadlocks.'\n",
       ")"
      ]
     },
     "execution_count": 44,
     "metadata": {},
     "output_type": "execute_result"
    }
   ],
   "source": [
    "response"
   ]
  },
  {
   "cell_type": "code",
   "execution_count": 9,
   "metadata": {},
   "outputs": [],
   "source": [
    "gpt4_turbo = dspy.OpenAI(model=\"gpt-4-turbo\", api_key=OPENAI_API_KEY)"
   ]
  },
  {
   "cell_type": "code",
   "execution_count": 31,
   "metadata": {},
   "outputs": [],
   "source": [
    "class QueryReformatter(dspy.Signature):\n",
    "    \"\"\"Given a query, make it more detailed by asking implied subquestions for a vector search.\"\"\"\n",
    "\n",
    "    query = dspy.InputField()\n",
    "    new_query = dspy.OutputField(desc=\"The more detailed version of the query, assuming it is known the information is contained in the writing. ONLY GIVE THE QUERY, no additional text.\")\n",
    "\n",
    "class PineconeRM(dspy.Retrieve):\n",
    "    \"\"\"\n",
    "    Retrieval model used in DSPy, reformats the query and retrieves the top k passages from Pinecone.\n",
    "    \"\"\"\n",
    "    def __init__(self, id:str = \"\", k:int = 3):\n",
    "        super().__init__(k=k)\n",
    "        self.id = id\n",
    "\n",
    "    def forward(self, query:str) -> dspy.Prediction:\n",
    "        dspy.configure(lm=gpt4)\n",
    "        queryref = dspy.Predict(QueryReformatter)\n",
    "        query_redone = queryref(query=query).new_query\n",
    "        voyage_call = vo.embed(query_redone, model=\"voyage-large-2\", input_type=\"query\")\n",
    "        query_vector = voyage_call.embeddings[0]\n",
    "        if not self.id:\n",
    "            result = index.query(\n",
    "                vector=query_vector,\n",
    "                top_k=self.k,\n",
    "                include_metadata=True\n",
    "            )\n",
    "        else:\n",
    "            result = index.query(\n",
    "                vector=query_vector,\n",
    "                filter={\n",
    "                    \"pdf_id\": self.id\n",
    "                },\n",
    "                top_k=self.k,\n",
    "                include_metadata=True\n",
    "            )\n",
    "        text_strings = [i[\"metadata\"][\"text\"] for i in result[\"matches\"]]\n",
    "        return dspy.Prediction(\n",
    "            passages=text_strings\n",
    "        )\n",
    "\n",
    "class GenerateAnswer(dspy.Signature):\n",
    "    \"\"\"Answer questions with as ground-truth information as possible.\"\"\"\n",
    "\n",
    "    context = dspy.InputField(desc=\"may contain relevant facts\")\n",
    "    question = dspy.InputField()\n",
    "    answer = dspy.OutputField(desc=\"complete, detailed answer to the question in max 3 sentences.\")\n",
    "\n",
    "class RAG(dspy.Module):\n",
    "    \"\"\"Retrieve, Answer, Generate model for question answering.\"\"\"\n",
    "    def __init__(self, num_passages=2, id:str = \"\"):\n",
    "        super().__init__()\n",
    "\n",
    "        self.retrieve = PineconeRM(id=id, k=num_passages)\n",
    "        self.generate_answer = dspy.Predict(GenerateAnswer)\n",
    "    \n",
    "    def forward(self, question):\n",
    "        context = self.retrieve(question).passages\n",
    "        prediction = self.generate_answer(context=context, question=question)\n",
    "        print(prediction)\n",
    "        return dspy.Prediction(context=context, answer=prediction.answer)\n",
    "\n",
    "def rag_qa(id, query):\n",
    "    \"\"\"\n",
    "    Given a question and an ID, retrieves the top k passages from Pinecone and generates an answer using the RAG model.\n",
    "    \"\"\"\n",
    "    rag = RAG(id=id)\n",
    "    call = rag(question=query)\n",
    "    return call"
   ]
  },
  {
   "cell_type": "code",
   "execution_count": 32,
   "metadata": {},
   "outputs": [
    {
     "name": "stdout",
     "output_type": "stream",
     "text": [
      "Prediction(\n",
      "    answer=\"Sam Altman believes that the key to successfully raising money is having a good company, as investors are looking for companies that will be successful regardless of their investment. He advises against trying to raise money when the company isn't in a good shape to attract capital, as it can damage reputation and waste time. He also suggests having fundraising conversations in parallel, insisting on clean terms, and not over-optimizing on valuation.\"\n",
      ")\n"
     ]
    },
    {
     "data": {
      "text/plain": [
       "Prediction(\n",
       "    context=['The secret to successfully raising money is to have a good company. All of the other stuff\\nfounders do to try to over-optimize the process probably only matters about 5% of the time. Investors are looking for companies that are going to be really successful whether or not they\\ninvest, but that can grow faster with outside capital.', 'The “really successful” part is important\\n—because investors’ returns are dominated by the big successes, if an investor believes you\\nhave a 100% chance of creating a $10 million company but almost no chance of building a\\nlarger company, he/she will still probably not invest even at a very low valuation. Always\\nexplain why you could be a huge success. Investors are driven by the dual fears of missing the next Google, and fear of losing money\\non something that in retrospect looks obviously stupid. (For the best companies, they fear\\nboth at the same time.)\\nIt is a bad idea to try to raise money when your company isn’t in good enough shape to\\nattract capital. You will burn reputation and waste time. Don’t get demoralized if you struggle to raise money. Many of the best companies have\\nstruggled with this, because the best companies so often look bad at the beginning (and they\\nnearly always look unfashionable.) When investors tell you no, believe the no but not the\\nreason. And remember that anything but “yes” is a “no”—investors have a wonderful ability to\\nsay “no” in a way that sounds like “maybe yes”. It’s really important to have fundraising conversations in parallel—don’t go down a list of your\\nfavorite investors sequentially. The way to get investors to act is fear of other investors taking\\naway their opportunity. View fundraising as a necessary evil and something to get done as quickly as possible. Some founders fall in love with fundraising; this is always bad. It’s best to have just one\\nfounder do it so the company doesn’t grind to a halt. Remember that most VCs don’t know much about most industries. Metrics are always the\\nmost convincing. It’s beginning to change, but most investors (Y Combinator being a notable exception)\\nunfortunately still require introductions from people you both know to take you seriously. Insist on clean terms (complicated terms compound and get worse each round) but don’t\\nover-optimize, especially on valuation. Valuation is something quantitative to compete on,\\nand so founders love to compete for the highest valuation.'],\n",
       "    answer=\"Sam Altman believes that the key to successfully raising money is having a good company, as investors are looking for companies that will be successful regardless of their investment. He advises against trying to raise money when the company isn't in a good shape to attract capital, as it can damage reputation and waste time. He also suggests having fundraising conversations in parallel, insisting on clean terms, and not over-optimizing on valuation.\"\n",
       ")"
      ]
     },
     "execution_count": 32,
     "metadata": {},
     "output_type": "execute_result"
    }
   ],
   "source": [
    "rag_qa(id=\"default\", query=\"how does sam altman feel about raising money?\")"
   ]
  },
  {
   "cell_type": "code",
   "execution_count": null,
   "metadata": {},
   "outputs": [],
   "source": []
  }
 ],
 "metadata": {
  "kernelspec": {
   "display_name": "RAG-CHAT-DEV",
   "language": "python",
   "name": "python3"
  },
  "language_info": {
   "codemirror_mode": {
    "name": "ipython",
    "version": 3
   },
   "file_extension": ".py",
   "mimetype": "text/x-python",
   "name": "python",
   "nbconvert_exporter": "python",
   "pygments_lexer": "ipython3",
   "version": "3.12.3"
  }
 },
 "nbformat": 4,
 "nbformat_minor": 2
}
